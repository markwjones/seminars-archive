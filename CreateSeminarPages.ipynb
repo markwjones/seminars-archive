{
 "cells": [
  {
   "cell_type": "code",
   "execution_count": 127,
   "id": "b5652c45",
   "metadata": {},
   "outputs": [],
   "source": [
    "import sqlite3\n",
    "import os.path\n",
    "from datetime import datetime\n",
    "import re\n",
    "import codecs\n",
    "con = sqlite3.connect(\"seminar.db\")\n",
    "cur = con.cursor()"
   ]
  },
  {
   "cell_type": "code",
   "execution_count": 128,
   "id": "f72a45bd",
   "metadata": {},
   "outputs": [],
   "source": [
    "text_file = open(\"src/seminar.txt\", \"r\");\n",
    "seminar_template = text_file.read();\n",
    "text_file.close();\n",
    "\n",
    "text_file = open(\"src/seminars.txt\", \"r\");\n",
    "seminars_template = text_file.read();\n",
    "text_file.close();"
   ]
  },
  {
   "cell_type": "code",
   "execution_count": 138,
   "id": "0a4c7974",
   "metadata": {},
   "outputs": [],
   "source": [
    "def makeLink(text, link):\n",
    "    if (link is not None):\n",
    "        return '<a href=\"'+link+'\">'+text+'</a>';\n",
    "    else:\n",
    "        return text;\n",
    "\n",
    "def displaySeminar(template, seminar):\n",
    "    linkline=\"<li>\\n\\t{{DATE}} {{LOCATION}} <br />\\n\\t{{SPEAKER}} {{INSTITUTION}} <br />\\n\\t{{TITLE}}\\n</li>\\n\";\n",
    "    if (seminar[8] is None):\n",
    "        title=\"TBD\";\n",
    "    else:\n",
    "        title=seminar[8];\n",
    "    template=template.replace(\"{{SEMINAR_TITLE}}\", title);\n",
    "    link=makeLink(seminar[4], seminar[5]);\n",
    "    template=template.replace(\"{{SPEAKER}}\", link);\n",
    "    institution='';\n",
    "    if (seminar[6] is not None):\n",
    "        institution=makeLink(seminar[6], seminar[7]);\n",
    "    template=template.replace(\"{{INSTITUTION}}\", institution);\n",
    "    abstract='';\n",
    "    if (seminar[9] is not None):\n",
    "        abstract=seminar[9];\n",
    "    abstract=abstract.replace(\"\\\\r\\\\n\", \"<br />\");\n",
    "    template=template.replace(\"{{ABSTRACT}}\",abstract);\n",
    "    datetime_object = datetime.strptime(seminar[1], '%Y-%m-%d')\n",
    "    template=template.replace(\"{{DATE}}\",datetime_object.strftime(\"%A %d %b %Y\"));\n",
    "    template=template.replace(\"{{LOCATION}}\",seminar[3]);\n",
    "    filename=re.sub(r'[^A-Za-z0-9 ]+', '', title);\n",
    "    filename=\"site/seminars/\"+seminar[1]+'-'+filename.replace(\" \", \"_\")+\".html\";\n",
    "    out_file = codecs.open(filename, \"w\", \"utf-8\");\n",
    "    out_file.write(template);\n",
    "    out_file.close();\n",
    "    linkline=linkline.replace(\"{{DATE}}\",datetime_object.strftime(\"%d %b %Y\"));\n",
    "    linkline=linkline.replace(\"{{LOCATION}}\", seminar[3]);\n",
    "    linkline=linkline.replace(\"{{SPEAKER}}\", link);\n",
    "    linkline=linkline.replace(\"{{INSTITUTION}}\", institution);\n",
    "    linkline=linkline.replace(\"{{TITLE}}\", makeLink(title, filename));\n",
    "    linkline=linkline.replace(\"site/seminars\",\"../seminars\");\n",
    "    return linkline; #return link to be used\n",
    "    \n",
    "    \n",
    "def writeYearList(yy, year_list, seminars_data):\n",
    "    filename=\"site/years/\"+yy+\".html\";\n",
    "    out_file = codecs.open(filename, \"w\", \"utf-8\");\n",
    "    out_file.write(seminars_data.replace(\"{{TALKLIST}}\", year_list).replace(\"{{HEADING}}\",yy));\n",
    "    out_file.close();\n",
    "\n",
    "def seminarsFromYear(year, seminar_template, seminars_template):\n",
    "    query=\"SELECT * FROM seminar where date>='{{yy1}}-10-01' and date <='{{yy2}}-09-30' order by date asc\";\n",
    "    query=query.replace(\"{{yy1}}\",str(year)).replace(\"{{yy2}}\",str(year+1));\n",
    "    res=cur.execute(query);\n",
    "\n",
    "    year_list='';\n",
    "\n",
    "    for seminar in res:\n",
    "        linkline=displaySeminar(seminar_template, seminar);\n",
    "        year_list=year_list+linkline;\n",
    "\n",
    "    if (year_list != ''):\n",
    "        writeYearList(\"{{yy1}}-{{yy2}}\".replace(\"{{yy1}}\",str(year)).replace(\"{{yy2}}\",str(year+1)), year_list, seminars_template);\n",
    "        \n",
    "def makeYearItem(inYearDir, year):\n",
    "    query=\"SELECT * FROM seminar where date>='{{yy1}}-10-01' and date <='{{yy2}}-09-30' \";\n",
    "    query=query.replace(\"{{yy1}}\",str(year)).replace(\"{{yy2}}\",str(year+1));\n",
    "    res=cur.execute(query);\n",
    "    if (len(res.fetchall())>0):\n",
    "        listitem=\"\\t<li>{{LINK}}</li>\\n\";\n",
    "        if (inYearDir==True):\n",
    "            listitem=listitem.replace(\"{{LINK}}\", makeLink(str(year)+'-'+str(year+1), str(year)+'-'+str(year+1)+\".html\"));\n",
    "        else:\n",
    "            listitem=listitem.replace(\"{{LINK}}\", makeLink(str(year)+'-'+str(year+1), \"../years/\"+str(year)+'-'+str(year+1)+\".html\"));\n",
    "        return listitem;\n",
    "    else:\n",
    "        return '';\n",
    "    \n",
    "def makeYearList(inYearDir):\n",
    "    yearlist='<ul>\\n';\n",
    "    for i in range (1993,2023):\n",
    "        yearlist=yearlist+makeYearItem(inYearDir, i);\n",
    "    return yearlist+'</ul>\\n'\n",
    "\n",
    "def writeIndexHTML(seminars_data):\n",
    "    filename=\"site/index.html\";\n",
    "    seminars_data=seminars_data.replace(\"../resources/\", \"resources/\");\n",
    "    seminars_data=seminars_data.replace('<li><a href=\"', '<li><a href=\"years/');\n",
    "    out_file = codecs.open(filename, \"w\", \"utf-8\");\n",
    "    out_file.write(seminars_data.replace(\"{{TALKLIST}}\", \"\").replace(\"{{HEADING}}\",\"\"));\n",
    "    out_file.close();\n",
    "    "
   ]
  },
  {
   "cell_type": "code",
   "execution_count": 130,
   "id": "d549e08c",
   "metadata": {},
   "outputs": [],
   "source": [
    "yearListinYears=makeYearList(True);\n",
    "yearListinSeminars=makeYearList(False);\n",
    "seminar_template=seminar_template.replace(\"{{YEARLIST}}\", yearListinSeminars);\n",
    "seminars_template=seminars_template.replace(\"{{YEARLIST}}\", yearListinYears);"
   ]
  },
  {
   "cell_type": "code",
   "execution_count": 131,
   "id": "9793d429",
   "metadata": {},
   "outputs": [],
   "source": [
    "for i in range (1993,2023):\n",
    "    seminarsFromYear(i, seminar_template, seminars_template);\n"
   ]
  },
  {
   "cell_type": "code",
   "execution_count": 139,
   "id": "d12dfd8c",
   "metadata": {},
   "outputs": [],
   "source": [
    "writeIndexHTML(seminars_template);"
   ]
  },
  {
   "cell_type": "code",
   "execution_count": null,
   "id": "f4d0d763",
   "metadata": {},
   "outputs": [],
   "source": []
  }
 ],
 "metadata": {
  "kernelspec": {
   "display_name": "Python 3 (ipykernel)",
   "language": "python",
   "name": "python3"
  },
  "language_info": {
   "codemirror_mode": {
    "name": "ipython",
    "version": 3
   },
   "file_extension": ".py",
   "mimetype": "text/x-python",
   "name": "python",
   "nbconvert_exporter": "python",
   "pygments_lexer": "ipython3",
   "version": "3.9.15"
  }
 },
 "nbformat": 4,
 "nbformat_minor": 5
}
